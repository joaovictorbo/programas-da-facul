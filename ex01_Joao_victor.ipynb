{
  "cells": [
    {
      "cell_type": "markdown",
      "metadata": {
        "id": "1CQyZLovybNW"
      },
      "source": [
        "# Introdução à Ciência de Dados - UFPB\n",
        "Professor: Yuri Malheiros\n",
        "\n",
        "## Python - Listas - Exercício"
      ]
    },
    {
      "cell_type": "markdown",
      "metadata": {
        "id": "swKeJ_GzybNZ"
      },
      "source": [
        "As funções abaixo possuem comentários de doctest que servem para testá-las. Por favor, não apague os comentários após a definição das funções.\n",
        "\n",
        "Você pode conferir se a sua implementação está correta executando a última célula desse notebook."
      ]
    },
    {
      "cell_type": "markdown",
      "metadata": {
        "id": "LUFvjnheybNa"
      },
      "source": [
        "A função `clear` recebe uma lista e uma função como parâmetros. Ela deve retornar uma nova lista apenas com os elementos da lista que, ao aplicar a função passada como parâmetro, o retorno dessa função seja True."
      ]
    },
    {
      "cell_type": "code",
      "execution_count": null,
      "metadata": {
        "id": "9nxTqEwSybNa"
      },
      "outputs": [],
      "source": [
        "    \"\"\"\n",
        "    Test:\n",
        "    >>> clear([1,2,3,4,5,6,7,8], lambda x: x % 2 == 0)\n",
        "    [2, 4, 6, 8]\n",
        "\n",
        "    >>> clear(['maria', 'joao', 'ana', 'lucas'], lambda x: len(x) == 5)\n",
        "    ['maria', 'lucas']\n",
        "    \"\"\"\n",
        "    def clear(lista,funcao):\n",
        "      nova_lista = []\n",
        "      nova_lista = [i for i in lista if (funcao)(i)]\n",
        "\n",
        "       \n",
        "    clear([2,5,6,8,2,3,5,7], lambda x: x*x != 4)\n",
        "    \n",
        "    # ADICIONAR CÓDIGO AQUI\n"
      ]
    },
    {
      "cell_type": "markdown",
      "metadata": {
        "id": "dwZ0Qo-NybNc"
      },
      "source": [
        "A função `pipeline` recebe uma lista e uma quantidade variável de funções. Uma nova lista deve ser criada aplicando cada função a cada elemento da lista. Essa nova lista deve ser retornada."
      ]
    },
    {
      "cell_type": "code",
      "execution_count": 1,
      "metadata": {
        "id": "cqopzmAEybNc",
        "colab": {
          "base_uri": "https://localhost:8080/"
        },
        "outputId": "8c6baa0f-36a2-496a-f91c-5b1073fdaebd"
      },
      "outputs": [
        {
          "output_type": "execute_result",
          "data": {
            "text/plain": [
              "[1, 3, 5, 7, 9]"
            ]
          },
          "metadata": {},
          "execution_count": 1
        }
      ],
      "source": [
        "def pipeline(a_list, *funcs):\n",
        "    \"\"\"\n",
        "    Test:\n",
        "    >>> pipeline([1,2,3,4,5], lambda x: x * 2)\n",
        "    [2, 4, 6, 8, 10]\n",
        "\n",
        "    >>> pipeline([1,2,3,4,5], lambda x: x * 2, lambda x: x-1)\n",
        "    [1, 3, 5, 7, 9]\n",
        "    \"\"\"\n",
        "\n",
        "    # ADICIONAR CÓDIGO AQUI\n",
        "    novalista = a_list\n",
        "    for func in funcs:\n",
        "        novalista = [(func)(i) for i in novalista ]\n",
        "    return novalista\n",
        "\n",
        "pipeline([1,2,3,4,5], lambda x: x * 2, lambda x: x-1)"
      ]
    },
    {
      "cell_type": "code",
      "execution_count": null,
      "metadata": {
        "id": "BRZ8QT1YybNd"
      },
      "outputs": [],
      "source": [
        "import doctest\n",
        "\n",
        "doctest.testmod(verbose=True)"
      ]
    }
  ],
  "metadata": {
    "kernelspec": {
      "display_name": "Python 3.10.4 64-bit ('3.10.4')",
      "language": "python",
      "name": "python3"
    },
    "language_info": {
      "codemirror_mode": {
        "name": "ipython",
        "version": 3
      },
      "file_extension": ".py",
      "mimetype": "text/x-python",
      "name": "python",
      "nbconvert_exporter": "python",
      "pygments_lexer": "ipython3",
      "version": "3.10.4"
    },
    "vscode": {
      "interpreter": {
        "hash": "920717a7cc80731a9b73e79f915c61e3bfaff3c2aee97a8455928bf5b256b3eb"
      }
    },
    "colab": {
      "provenance": [],
      "collapsed_sections": []
    }
  },
  "nbformat": 4,
  "nbformat_minor": 0
}